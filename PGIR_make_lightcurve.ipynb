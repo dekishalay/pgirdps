{
 "cells": [
  {
   "cell_type": "code",
   "execution_count": null,
   "id": "50f72ea2",
   "metadata": {},
   "outputs": [],
   "source": []
  },
  {
   "cell_type": "code",
   "execution_count": 6,
   "id": "3bf8ed63",
   "metadata": {},
   "outputs": [],
   "source": [
    "#import necessary modules\n",
    "import matplotlib.pyplot as plt\n",
    "import numpy as np\n",
    "from pandas import HDFStore\n",
    "import os\n",
    "import sys\n",
    "from astropy.io import fits\n",
    "from astropy.wcs import WCS\n",
    "from astropy.coordinates import SkyCoord\n",
    "import astropy.units as u\n",
    "import csv\n",
    "\n"
   ]
  },
  {
   "cell_type": "code",
   "execution_count": 11,
   "id": "2cdd301c",
   "metadata": {},
   "outputs": [],
   "source": [
    "#files and folders\n",
    "folderdir = '/scr2/shionmu/matchfiledata/20230725/'\n",
    "lcfiledir = 'lcfolder' #insert light curve directory!\n",
    "#coordinate identifiers. matches input coordinates to matchfile.\n",
    "sqcoordfile = '/home/shionmu/sq_fields.csv' #file location of sq_fields.csv\n",
    "coordfile = '/Users/shionmurakawa/fieldcoords.csv' #file location of fieldcoords.csv"
   ]
  },
  {
   "cell_type": "code",
   "execution_count": 8,
   "id": "92b63fc9",
   "metadata": {},
   "outputs": [],
   "source": [
    "#set your RA, DEC, and Threshold radius\n",
    "ra = #ra in degrees here\n",
    "dec = #dec in degrees here\n",
    "thresh = #thresh in arcsec here\n",
    "thresh = thresh * u.arcsec"
   ]
  },
  {
   "cell_type": "code",
   "execution_count": 9,
   "id": "08be3628",
   "metadata": {},
   "outputs": [
    {
     "name": "stdout",
     "output_type": "stream",
     "text": [
      "found coordinate in field 1029.\n",
      "found coordinate in field 1030.\n",
      "found coordinate in field 1103.\n",
      "found coordinate in field 1104.\n",
      "found 4 fields with coord\n"
     ]
    }
   ],
   "source": [
    "#find fields with specified coordinates within 5 degrees\n",
    "out = []\n",
    "with open(coordfile, 'r') as f:\n",
    "    csvreader = csv.DictReader(f)\n",
    "    for row in csvreader:\n",
    "        if abs(ra-float(row['ra'])) <= 5 and abs(dec-float(row['dec'])) <= 5:\n",
    "            out.append(row['field'])\n",
    "            print(f\"found coordinate in field {row['field']}.\")\n",
    "\n",
    "print(f'found {len(out)} fields with coord')"
   ]
  },
  {
   "cell_type": "code",
   "execution_count": 12,
   "id": "4dd32d2d",
   "metadata": {},
   "outputs": [],
   "source": [
    "#make the lightcurve folder if it does not already exist\n",
    "if not os.path.exists(lcfiledir):\n",
    "    os.makedirs(lcfiledir)"
   ]
  },
  {
   "cell_type": "code",
   "execution_count": 13,
   "id": "d739a0a0",
   "metadata": {},
   "outputs": [
    {
     "name": "stdout",
     "output_type": "stream",
     "text": [
      "searching f 1029 q 0 sq 0 for coordinate\n",
      "searching f 1029 q 0 sq 1 for coordinate\n",
      "searching f 1029 q 0 sq 2 for coordinate\n",
      "searching f 1029 q 0 sq 3 for coordinate\n",
      "searching f 1029 q 1 sq 0 for coordinate\n",
      "searching f 1029 q 1 sq 1 for coordinate\n",
      "searching f 1029 q 1 sq 2 for coordinate\n",
      "searching f 1029 q 1 sq 3 for coordinate\n",
      "searching f 1029 q 2 sq 0 for coordinate\n",
      "searching f 1029 q 2 sq 1 for coordinate\n",
      "searching f 1029 q 2 sq 2 for coordinate\n",
      "searching f 1029 q 2 sq 3 for coordinate\n",
      "searching f 1029 q 3 sq 0 for coordinate\n",
      "searching f 1029 q 3 sq 1 for coordinate\n",
      "searching f 1029 q 3 sq 2 for coordinate\n",
      "searching f 1029 q 3 sq 3 for coordinate\n",
      "searching f 1030 q 0 sq 0 for coordinate\n",
      "searching f 1030 q 0 sq 1 for coordinate\n",
      "searching f 1030 q 0 sq 2 for coordinate\n",
      "found coordinate in field1030 quad0 subquad2\n"
     ]
    }
   ],
   "source": [
    "#search for coordinate in each subquadrant file\n",
    "fieldsource = None\n",
    "quadsource = None\n",
    "subquadsource = None\n",
    "sfound = False\n",
    "with open(sqcoordfile, 'r') as f:\n",
    "    csvreader = csv.DictReader(f)\n",
    "    for row in csvreader:\n",
    "        if row['field'] in out:\n",
    "            print('searching f %s q %s sq %s for coordinate'%(row['field'], row['quad'], row['subquad']))\n",
    "            if ra > float(row['raedge1']) and ra < float(row['raedge2']):\n",
    "                if dec > float(row['decedge1']) and dec < float(row['decedge2']):\n",
    "                    print('found coordinate in field%s quad%s subquad%s' % (row['field'], row['quad'], row['subquad']))\n",
    "                    fieldsource = row['field']\n",
    "                    quadsource = row['quad']\n",
    "                    subquadsource = row['subquad']\n",
    "                    break\n",
    "            \n",
    "            "
   ]
  },
  {
   "cell_type": "code",
   "execution_count": 14,
   "id": "17206ba5",
   "metadata": {},
   "outputs": [],
   "source": [
    "#get matchfile and data for subquadrant\n",
    "filename = folderdir + 'match_fid%s_q%s_sq%s.h5' % (fieldsource, quadsource, subquadsource)\n",
    "if not os.path.exists(filename):\n",
    "    print('could not find matchfile')\n",
    "    sys.exit(1)\n",
    "\n",
    "match = HDFStore(filename)"
   ]
  },
  {
   "cell_type": "code",
   "execution_count": 15,
   "id": "05e57484",
   "metadata": {},
   "outputs": [],
   "source": [
    "#find the source in the matchfile data within given threshold\n",
    "\n",
    "radecdata = (match['sources']['tmcra'], match['sources']['tmcdec'])\n",
    "\n",
    "datasky = SkyCoord(ra=radecdata[0], dec=radecdata[1], frame='icrs', unit='degree')\n",
    "sourcecoord = SkyCoord(ra=[ra], dec=[dec], frame='icrs', unit='degree')\n",
    "idsource, iddata, d2d, d3d = datasky.search_around_sky(sourcecoord, thresh)\n",
    "if len(iddata) == 0:\n",
    "    print('could not find coordinate in data')\n"
   ]
  },
  {
   "cell_type": "code",
   "execution_count": 16,
   "id": "5524323b",
   "metadata": {},
   "outputs": [],
   "source": [
    "#read matchfile for relevant information\n",
    "\n",
    "sourceid = match['sources']['pts_key'][iddata[0]]\n",
    "\n",
    "sourcedatarow = np.where(match['sourcedata']['pts_key'] == sourceid)[0] #find the rows for this source in sourcedata table\n",
    "\n",
    "sourcera = match['sources']['tmcra'][iddata[0]]\n",
    "\n",
    "sourcedec = match['sources']['tmcdec'][iddata[0]]\n",
    "\n",
    "jds = match['sourcedata']['obsjd'][sourcedatarow] - 2458000 \n",
    "\n",
    "mags = match['sourcedata']['magpsf'][sourcedatarow]\n",
    "\n",
    "magerrs = match['sourcedata']['magpsferr'][sourcedatarow]\n",
    "\n",
    "sourceinfo = {'mags':mags, 'magerrs':magerrs, 'jds':jds, 'ra':sourcera, 'dec':sourcedec, 'id':sourceid}\n",
    "\n",
    "#close matchfile\n",
    "match.close()"
   ]
  },
  {
   "cell_type": "code",
   "execution_count": 17,
   "id": "cf7b634f",
   "metadata": {},
   "outputs": [],
   "source": [
    "#remove all points with unusually large error bars\n",
    "magerr = list(sourceinfo['magerrs'])\n",
    "errstd = np.std(magerr)\n",
    "errmean = np.median(magerr)\n",
    "mag = [list(sourceinfo['mags'])[ind] for ind in range(len(magerr)) if abs(magerr[ind]-errmean) <= 3*errstd]\n",
    "jd = [list(sourceinfo['jds'])[ind] for ind in range(len(magerr)) if abs(magerr[ind]-errmean) <= 3*errstd]\n",
    "goodmagerr = [list(sourceinfo['magerrs'])[ind] for ind in range(len(magerr)) if abs(magerr[ind]-errmean) <= 3*errstd]\n",
    "\n",
    "\n",
    "#get the rest of relevant information\n",
    "sourceid = sourceinfo['id']\n",
    "racat = sourceinfo['ra']\n",
    "deccat = sourceinfo['dec']\n"
   ]
  },
  {
   "cell_type": "code",
   "execution_count": 18,
   "id": "3f8d7738",
   "metadata": {},
   "outputs": [
    {
     "name": "stdout",
     "output_type": "stream",
     "text": [
      "created lc file for ra278.858 dec-7.614, file /Users/shionmurakawa/Desktop/lightcurve_fid1030_q0_sq2_id501326289.pdf\n"
     ]
    },
    {
     "data": {
      "image/png": "[encoded data removed]",
      "text/plain": [
       "<Figure size 640x480 with 1 Axes>"
      ]
     },
     "metadata": {},
     "output_type": "display_data"
    }
   ],
   "source": [
    "#name light curve file\n",
    "lcfilename = lcfiledir + 'lightcurve_fid%s_q%s_sq%s_id%d.pdf'%(fieldsource, quadsource, subquadsource, sourceid)\n",
    "\n",
    "#plot and save figure\n",
    "plt.figure()\n",
    "\n",
    "plt.errorbar(jd, mag, yerr=goodmagerr, fmt='.', color='k', elinewidth=0.3, ms=4, ls='')\n",
    "plt.xlabel('JD - 2458000')\n",
    "plt.ylabel('J magnitude')\n",
    "plt.title('RA%.6f, DEC%.6f' % (float(racat), float(deccat)))\n",
    "plt.gca().invert_yaxis()\n",
    "plt.savefig(lcfilename)\n",
    "print('created lc file for ra%.3f dec%.3f, file %s' % (ra, dec, lcfilename))\n",
    "plt.show()"
   ]
  },
  {
   "cell_type": "code",
   "execution_count": null,
   "id": "b7825a7c-57a7-4aef-9c10-270e5224a626",
   "metadata": {},
   "outputs": [],
   "source": []
  }
 ],
 "metadata": {
  "kernelspec": {
   "display_name": "Python 3 (ipykernel)",
   "language": "python",
   "name": "python3"
  },
  "language_info": {
   "codemirror_mode": {
    "name": "ipython",
    "version": 3
   },
   "file_extension": ".py",
   "mimetype": "text/x-python",
   "name": "python",
   "nbconvert_exporter": "python",
   "pygments_lexer": "ipython3",
   "version": "3.11.7"
  }
 },
 "nbformat": 4,
 "nbformat_minor": 5
}
